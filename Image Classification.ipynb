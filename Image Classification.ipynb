{
 "cells": [
  {
   "cell_type": "code",
   "execution_count": 1,
   "id": "f9e87c06",
   "metadata": {},
   "outputs": [],
   "source": [
    "#!pip install tensorflow"
   ]
  },
  {
   "cell_type": "code",
   "execution_count": 2,
   "id": "deffa07a",
   "metadata": {},
   "outputs": [],
   "source": [
    "from tensorflow import keras\n",
    "from keras.models import Sequential\n",
    "from keras.layers import Dense,Dropout, Flatten\n",
    "from keras.layers import Conv2D, MaxPooling2D\n",
    "from keras.utils import to_categorical\n",
    "from keras.preprocessing import image\n",
    "import numpy as np\n",
    "import pandas as pd\n",
    "import matplotlib.pyplot as plt\n",
    "from sklearn.model_selection import train_test_split\n",
    "from tqdm import tqdm"
   ]
  },
  {
   "cell_type": "code",
   "execution_count": 3,
   "id": "830dc867",
   "metadata": {
    "scrolled": true
   },
   "outputs": [],
   "source": [
    "import zipfile\n",
    "import os\n",
    "\n",
    "zip_file_path = r\"C:\\Users\\hp\\Downloads\\train_LbELtWX.zip\"\n",
    "unzip_folder = \"data_folder\"\n",
    "\n",
    "# Create the folder if it doesn't exist\n",
    "if not os.path.exists(unzip_folder):\n",
    "    os.makedirs(unzip_folder)\n",
    "\n",
    "# Unzip the file\n",
    "with zipfile.ZipFile(zip_file_path, 'r') as zip_ref:\n",
    "    zip_ref.extractall(unzip_folder)\n"
   ]
  },
  {
   "cell_type": "code",
   "execution_count": 4,
   "id": "101904d0",
   "metadata": {},
   "outputs": [],
   "source": [
    "id_label_file_path = os.path.join(unzip_folder, \"train.csv\")\n",
    "df = pd.read_csv(id_label_file_path)"
   ]
  },
  {
   "cell_type": "code",
   "execution_count": 5,
   "id": "d797fe3c",
   "metadata": {},
   "outputs": [
    {
     "name": "stderr",
     "output_type": "stream",
     "text": [
      "  0%|                                                                                        | 0/60000 [00:00<?, ?it/s]C:\\Users\\hp\\anaconda3\\lib\\site-packages\\keras\\src\\utils\\image_utils.py:409: UserWarning: grayscale is deprecated. Please use color_mode = \"grayscale\"\n",
      "  warnings.warn(\n",
      "100%|██████████████████████████████████████████████████████████████████████████| 60000/60000 [00:14<00:00, 4120.89it/s]\n"
     ]
    }
   ],
   "source": [
    "train_image = []\n",
    "images_folder = os.path.join(unzip_folder, \"train\")\n",
    "\n",
    "for i in tqdm(range(df.shape[0])):\n",
    "    img_path = os.path.join(images_folder, str(df['id'][i]) + '.png')\n",
    "    img = image.load_img(img_path, target_size=(28, 28, 1), grayscale=True)\n",
    "    img = image.img_to_array(img)\n",
    "    img = img / 255\n",
    "    train_image.append(img)\n",
    "\n",
    "X = np.array(train_image)"
   ]
  },
  {
   "cell_type": "code",
   "execution_count": 6,
   "id": "4580ce55",
   "metadata": {},
   "outputs": [],
   "source": [
    "y= df['label'].values\n",
    "y= to_categorical(y)"
   ]
  },
  {
   "cell_type": "code",
   "execution_count": 7,
   "id": "165f7df2",
   "metadata": {},
   "outputs": [],
   "source": [
    "X_train, X_test, y_train, y_test = train_test_split(X, y, random_state=42, test_size=0.1)"
   ]
  },
  {
   "cell_type": "code",
   "execution_count": 8,
   "id": "347ec19a",
   "metadata": {},
   "outputs": [],
   "source": [
    "model= Sequential()\n",
    "model.add(Conv2D(64, kernel_size= (4,4), activation= 'relu', input_shape= (28,28,1)))\n",
    "model.add(Conv2D(64, (4,4), activation= 'relu'))\n",
    "model.add(MaxPooling2D(pool_size= (1,1)))\n",
    "model.add(Dropout(0.20))\n",
    "model.add(Flatten())\n",
    "model.add(Dense(200, activation= 'relu'))\n",
    "model.add(Dense(10, activation= 'sigmoid'))"
   ]
  },
  {
   "cell_type": "code",
   "execution_count": 9,
   "id": "161c6edf",
   "metadata": {},
   "outputs": [],
   "source": [
    "model.compile(loss= 'categorical_crossentropy', optimizer= 'Adam', metrics= ['accuracy'])"
   ]
  },
  {
   "cell_type": "code",
   "execution_count": 10,
   "id": "2ecbdc0b",
   "metadata": {
    "scrolled": false
   },
   "outputs": [
    {
     "name": "stdout",
     "output_type": "stream",
     "text": [
      "Epoch 1/10\n",
      "1688/1688 [==============================] - 235s 139ms/step - loss: 0.3927 - accuracy: 0.8574 - val_loss: 0.2951 - val_accuracy: 0.8913\n",
      "Epoch 2/10\n",
      "1688/1688 [==============================] - 245s 145ms/step - loss: 0.2527 - accuracy: 0.9069 - val_loss: 0.2605 - val_accuracy: 0.9047\n",
      "Epoch 3/10\n",
      "1688/1688 [==============================] - 251s 149ms/step - loss: 0.1970 - accuracy: 0.9261 - val_loss: 0.2729 - val_accuracy: 0.9037\n",
      "Epoch 4/10\n",
      "1688/1688 [==============================] - 250s 148ms/step - loss: 0.1491 - accuracy: 0.9438 - val_loss: 0.2412 - val_accuracy: 0.9133\n",
      "Epoch 5/10\n",
      "1688/1688 [==============================] - 253s 150ms/step - loss: 0.1077 - accuracy: 0.9588 - val_loss: 0.2760 - val_accuracy: 0.9090\n",
      "Epoch 6/10\n",
      "1688/1688 [==============================] - 255s 151ms/step - loss: 0.0812 - accuracy: 0.9702 - val_loss: 0.2909 - val_accuracy: 0.9138\n",
      "Epoch 7/10\n",
      "1688/1688 [==============================] - 257s 152ms/step - loss: 0.0613 - accuracy: 0.9774 - val_loss: 0.3352 - val_accuracy: 0.9113\n",
      "Epoch 8/10\n",
      "1688/1688 [==============================] - 258s 153ms/step - loss: 0.0473 - accuracy: 0.9827 - val_loss: 0.3621 - val_accuracy: 0.9107\n",
      "Epoch 9/10\n",
      "1688/1688 [==============================] - 255s 151ms/step - loss: 0.0379 - accuracy: 0.9863 - val_loss: 0.3898 - val_accuracy: 0.9142\n",
      "Epoch 10/10\n",
      "1688/1688 [==============================] - 254s 150ms/step - loss: 0.0329 - accuracy: 0.9880 - val_loss: 0.4520 - val_accuracy: 0.9093\n"
     ]
    },
    {
     "data": {
      "text/plain": [
       "<keras.src.callbacks.History at 0x22b60c1b8e0>"
      ]
     },
     "execution_count": 10,
     "metadata": {},
     "output_type": "execute_result"
    }
   ],
   "source": [
    "model.fit(X_train, y_train, epochs= 10, validation_data= (X_test, y_test))"
   ]
  },
  {
   "cell_type": "code",
   "execution_count": 11,
   "id": "124f7e6b",
   "metadata": {},
   "outputs": [],
   "source": [
    "zip_file_path = r\"C:\\Users\\hp\\Downloads\\test_ScVgIM0.zip\"\n",
    "unzip_folder = \"data_folder\"\n",
    "\n",
    "# Create the folder if it doesn't exist\n",
    "if not os.path.exists(unzip_folder):\n",
    "    os.makedirs(unzip_folder)\n",
    "\n",
    "# Unzip the file\n",
    "with zipfile.ZipFile(zip_file_path, 'r') as zip_ref:\n",
    "    zip_ref.extractall(unzip_folder)"
   ]
  },
  {
   "cell_type": "code",
   "execution_count": 12,
   "id": "0c618215",
   "metadata": {},
   "outputs": [],
   "source": [
    "id_label_file_path = os.path.join(unzip_folder, \"test.csv\")\n",
    "df_1= pd.read_csv(id_label_file_path)"
   ]
  },
  {
   "cell_type": "code",
   "execution_count": 13,
   "id": "d4b1a0de",
   "metadata": {},
   "outputs": [
    {
     "name": "stderr",
     "output_type": "stream",
     "text": [
      "  0%|                                                                                        | 0/10000 [00:00<?, ?it/s]C:\\Users\\hp\\anaconda3\\lib\\site-packages\\keras\\src\\utils\\image_utils.py:409: UserWarning: grayscale is deprecated. Please use color_mode = \"grayscale\"\n",
      "  warnings.warn(\n",
      "100%|██████████████████████████████████████████████████████████████████████████| 10000/10000 [00:02<00:00, 3523.27it/s]\n"
     ]
    }
   ],
   "source": [
    "test_image = []\n",
    "images_folder = os.path.join(unzip_folder, \"test\")\n",
    "\n",
    "for i in tqdm(range(df_1.shape[0])):\n",
    "    img_path = os.path.join(images_folder, str(df_1['id'][i]) + '.png')\n",
    "    img = image.load_img(img_path, target_size=(28, 28, 1), grayscale=True)\n",
    "    img = image.img_to_array(img)\n",
    "    img = img / 255\n",
    "    test_image.append(img)\n",
    "\n",
    "test = np.array(test_image)"
   ]
  },
  {
   "cell_type": "code",
   "execution_count": 14,
   "id": "5a237429",
   "metadata": {},
   "outputs": [
    {
     "name": "stdout",
     "output_type": "stream",
     "text": [
      "313/313 [==============================] - 9s 28ms/step\n"
     ]
    }
   ],
   "source": [
    "prediction = model.predict(test)"
   ]
  },
  {
   "cell_type": "code",
   "execution_count": 16,
   "id": "4dce7675",
   "metadata": {},
   "outputs": [],
   "source": [
    "sample = pd.read_csv(r\"C:\\Users\\hp\\Downloads\\sample_submission_I5njJSF.csv\")"
   ]
  },
  {
   "cell_type": "code",
   "execution_count": 17,
   "id": "ffc7279a",
   "metadata": {},
   "outputs": [],
   "source": [
    "sample['label']= prediction"
   ]
  },
  {
   "cell_type": "code",
   "execution_count": 18,
   "id": "dff368b6",
   "metadata": {},
   "outputs": [
    {
     "data": {
      "text/html": [
       "<div>\n",
       "<style scoped>\n",
       "    .dataframe tbody tr th:only-of-type {\n",
       "        vertical-align: middle;\n",
       "    }\n",
       "\n",
       "    .dataframe tbody tr th {\n",
       "        vertical-align: top;\n",
       "    }\n",
       "\n",
       "    .dataframe thead th {\n",
       "        text-align: right;\n",
       "    }\n",
       "</style>\n",
       "<table border=\"1\" class=\"dataframe\">\n",
       "  <thead>\n",
       "    <tr style=\"text-align: right;\">\n",
       "      <th></th>\n",
       "      <th>id</th>\n",
       "      <th>label</th>\n",
       "    </tr>\n",
       "  </thead>\n",
       "  <tbody>\n",
       "    <tr>\n",
       "      <th>0</th>\n",
       "      <td>60001</td>\n",
       "      <td>0.000004</td>\n",
       "    </tr>\n",
       "    <tr>\n",
       "      <th>1</th>\n",
       "      <td>60002</td>\n",
       "      <td>0.968234</td>\n",
       "    </tr>\n",
       "    <tr>\n",
       "      <th>2</th>\n",
       "      <td>60003</td>\n",
       "      <td>0.001037</td>\n",
       "    </tr>\n",
       "    <tr>\n",
       "      <th>3</th>\n",
       "      <td>60004</td>\n",
       "      <td>0.282392</td>\n",
       "    </tr>\n",
       "    <tr>\n",
       "      <th>4</th>\n",
       "      <td>60005</td>\n",
       "      <td>0.964285</td>\n",
       "    </tr>\n",
       "    <tr>\n",
       "      <th>...</th>\n",
       "      <td>...</td>\n",
       "      <td>...</td>\n",
       "    </tr>\n",
       "    <tr>\n",
       "      <th>9995</th>\n",
       "      <td>69996</td>\n",
       "      <td>0.001480</td>\n",
       "    </tr>\n",
       "    <tr>\n",
       "      <th>9996</th>\n",
       "      <td>69997</td>\n",
       "      <td>0.001384</td>\n",
       "    </tr>\n",
       "    <tr>\n",
       "      <th>9997</th>\n",
       "      <td>69998</td>\n",
       "      <td>0.000008</td>\n",
       "    </tr>\n",
       "    <tr>\n",
       "      <th>9998</th>\n",
       "      <td>69999</td>\n",
       "      <td>0.000009</td>\n",
       "    </tr>\n",
       "    <tr>\n",
       "      <th>9999</th>\n",
       "      <td>70000</td>\n",
       "      <td>0.013732</td>\n",
       "    </tr>\n",
       "  </tbody>\n",
       "</table>\n",
       "<p>10000 rows × 2 columns</p>\n",
       "</div>"
      ],
      "text/plain": [
       "         id     label\n",
       "0     60001  0.000004\n",
       "1     60002  0.968234\n",
       "2     60003  0.001037\n",
       "3     60004  0.282392\n",
       "4     60005  0.964285\n",
       "...     ...       ...\n",
       "9995  69996  0.001480\n",
       "9996  69997  0.001384\n",
       "9997  69998  0.000008\n",
       "9998  69999  0.000009\n",
       "9999  70000  0.013732\n",
       "\n",
       "[10000 rows x 2 columns]"
      ]
     },
     "execution_count": 18,
     "metadata": {},
     "output_type": "execute_result"
    }
   ],
   "source": [
    "sample"
   ]
  }
 ],
 "metadata": {
  "kernelspec": {
   "display_name": "Python 3 (ipykernel)",
   "language": "python",
   "name": "python3"
  },
  "language_info": {
   "codemirror_mode": {
    "name": "ipython",
    "version": 3
   },
   "file_extension": ".py",
   "mimetype": "text/x-python",
   "name": "python",
   "nbconvert_exporter": "python",
   "pygments_lexer": "ipython3",
   "version": "3.10.9"
  }
 },
 "nbformat": 4,
 "nbformat_minor": 5
}
